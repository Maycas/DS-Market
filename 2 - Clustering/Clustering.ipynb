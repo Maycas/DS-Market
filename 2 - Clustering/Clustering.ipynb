{
 "cells": [
  {
   "cell_type": "markdown",
   "metadata": {},
   "source": [
    "<img src='../img/logo.png' alt='DS Market logo' height='150px'>"
   ]
  },
  {
   "cell_type": "markdown",
   "metadata": {},
   "source": [
    "# Clustering"
   ]
  },
  {
   "cell_type": "markdown",
   "metadata": {},
   "source": [
    "## Table of Contents\n",
    "\n",
    "* [A. Introduction](#introduction)\n",
    "* [B. Importing Libraries](#libraries)\n",
    "* [C. Importing data](#data)\n",
    "* [D. Products clustering](#products)\n",
    "* [D. Products clustering](#products)"
   ]
  },
  {
   "cell_type": "markdown",
   "metadata": {},
   "source": [
    "## A. Introduction <a class=\"anchor\" id=\"introduction\"></a>"
   ]
  },
  {
   "cell_type": "markdown",
   "metadata": {},
   "source": [
    "The goal of this notebook is to identify groups of products that behave in a similar way, so DS Market can evaluate the performance of their different campaigns. We will provide those groups and the ideal number of these.\n",
    "\n",
    "Additionally, we will try to identify how similar are stores from one another in case it makes any sense to do it."
   ]
  },
  {
   "cell_type": "markdown",
   "metadata": {},
   "source": [
    "## B. Importing Libraries <a class=\"anchor\" id=\"libraries\"></a>"
   ]
  },
  {
   "cell_type": "code",
   "execution_count": 2,
   "metadata": {},
   "outputs": [],
   "source": [
    "# system and path management\n",
    "import sys\n",
    "sys.path.append('../scripts') # including helper functions inside the scripts folder\n",
    "\n",
    "# removing system warnings\n",
    "import warnings\n",
    "warnings.filterwarnings('ignore')\n",
    "\n",
    "# data manipulation\n",
    "import pandas as pd\n",
    "import numpy as np\n",
    "\n",
    "# plotting\n",
    "import matplotlib.pyplot as plt\n",
    "\n",
    "# plotting options\n",
    "%matplotlib inline\n",
    "plt.style.use('ggplot')\n",
    "plt.rcParams[\"figure.figsize\"] = (10, 7)\n",
    "\n",
    "pd.set_option('display.max_rows', 500)\n",
    "pd.set_option('display.max_columns', 500)\n",
    "pd.options.display.float_format = '{:,.2f}'.format\n",
    "\n",
    "# helper functions\n",
    "import outlier_management as outliers\n",
    "import file_management"
   ]
  },
  {
   "cell_type": "markdown",
   "metadata": {},
   "source": [
    "## C. Importing Data <a class=\"anchor\" id=\"data\"></a>"
   ]
  },
  {
   "cell_type": "code",
   "execution_count": 3,
   "metadata": {},
   "outputs": [
    {
     "name": "stdout",
     "output_type": "stream",
     "text": [
      "sales_processed.csv file already exists in ../data/processed/\n",
      "prices_processed.csv file already exists in ../data/processed/\n",
      "calendar_processed.csv file already exists in ../data/processed/\n"
     ]
    }
   ],
   "source": [
    "# downloading the processed data files from gdrive\n",
    "directory = '../data/processed/'\n",
    "urls = [\n",
    "    {'filename': 'sales_processed.csv', 'url': 'https://drive.google.com/file/d/1JdeAgraKcaFQJrjG2HPVb5D0VD0iTlNB/view?usp=sharing'},\n",
    "    {'filename': 'prices_processed.csv', 'url': 'https://drive.google.com/file/d/1pSEJAQfAU-owDjKmxcPrxf3CpGFivwa6/view?usp=sharing'},\n",
    "    {'filename': 'calendar_processed.csv', 'url': 'https://drive.google.com/file/d/1Lnji96iBkTpFiWo-QXeW3TvESiNYWCML/view?usp=sharing'}\n",
    "]\n",
    "        \n",
    "file_management.download_files_from_url(urls, directory)\n",
    "\n",
    "sales = pd.read_csv(directory + 'sales_processed.csv')\n",
    "prices = pd.read_csv(directory + 'prices_processed.csv')\n",
    "calendar = pd.read_csv(directory + 'calendar_processed.csv')"
   ]
  },
  {
   "cell_type": "code",
   "execution_count": 4,
   "metadata": {},
   "outputs": [
    {
     "name": "stdout",
     "output_type": "stream",
     "text": [
      "master.csv file already exists in ../data/features/\n"
     ]
    }
   ],
   "source": [
    "# downloading the feature file from gdrive\n",
    "directory = '../data/features/'\n",
    "urls = [\n",
    "    {'filename': 'master.csv', 'url': 'https://drive.google.com/file/d/1_OCpE6AZK3ju5RJVTJZm8ox5Cn8G3_Ag/view?usp=sharing'},\n",
    "]\n",
    "        \n",
    "file_management.download_files_from_url(urls, directory)\n",
    "\n",
    "master = pd.read_csv(directory + 'master.csv')"
   ]
  },
  {
   "cell_type": "markdown",
   "metadata": {},
   "source": [
    "____"
   ]
  },
  {
   "cell_type": "markdown",
   "metadata": {},
   "source": [
    "Popularity of products\n",
    "\n",
    "- plot by number of sales by month /week distribution(avg sales in last month...)\n",
    "- filter by city\n",
    "- filter by store\n",
    "- monthly increment of sales (?)"
   ]
  },
  {
   "cell_type": "markdown",
   "metadata": {},
   "source": [
    "clustering:\n",
    "\n",
    "- scatter plot... 1v1 (with num variables)\n",
    "- what caracterises a store? amount of sales they have? Num of products they have...\n"
   ]
  },
  {
   "cell_type": "markdown",
   "metadata": {},
   "source": []
  }
 ],
 "metadata": {
  "interpreter": {
   "hash": "cf02ddb1f4e0cf91aaa2da81dcf25e5e7e70ec4e5f47b1fabe56a7ae8419c9a3"
  },
  "kernelspec": {
   "display_name": "Python 3.8.12 64-bit ('base': conda)",
   "language": "python",
   "name": "python3"
  },
  "language_info": {
   "codemirror_mode": {
    "name": "ipython",
    "version": 3
   },
   "file_extension": ".py",
   "mimetype": "text/x-python",
   "name": "python",
   "nbconvert_exporter": "python",
   "pygments_lexer": "ipython3",
   "version": "3.8.12"
  },
  "orig_nbformat": 4
 },
 "nbformat": 4,
 "nbformat_minor": 2
}
