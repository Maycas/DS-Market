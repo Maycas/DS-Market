{
 "cells": [
  {
   "cell_type": "markdown",
   "metadata": {},
   "source": [
    "<img src='../img/logo.png' alt='DS Market logo' height='150px'>"
   ]
  },
  {
   "cell_type": "markdown",
   "metadata": {},
   "source": [
    "# 2 - Feature Engineering"
   ]
  },
  {
   "cell_type": "markdown",
   "metadata": {},
   "source": [
    "## Table of Contents\n",
    "\n",
    "* [A. Introduction](#introduction)\n",
    "* [B. Importing Libraries](#libraries)\n",
    "* [C. Importing data](#data)\n",
    "* [D. Creating a master dataframe](#master_df)\n",
    "* [E. Creating aggregated dataframes](#master_df)\n"
   ]
  },
  {
   "cell_type": "markdown",
   "metadata": {},
   "source": [
    "## A. Introduction <a class=\"anchor\" id=\"introduction\"></a>\n",
    "\n",
    "In the following notebook, we will be generating some features that will be needed for the analysis and the future models to generate.\n",
    "\n",
    "Disclaimer: Running this dataframe requires quite some time (up to 30 - 40 minutes, depending on your computer). Whenever possible, download the file from the following [GDrive link](#https://drive.google.com/file/d/1_OCpE6AZK3ju5RJVTJZm8ox5Cn8G3_Ag/view?usp=sharing)."
   ]
  },
  {
   "cell_type": "markdown",
   "metadata": {},
   "source": [
    "## B. Importing Libraries <a class=\"anchor\" id=\"libraries\"></a>"
   ]
  },
  {
   "cell_type": "code",
   "execution_count": 2,
   "metadata": {},
   "outputs": [],
   "source": [
    "# system and path management\n",
    "import sys\n",
    "sys.path.append('../scripts') # including helper functions inside the scripts folder\n",
    "\n",
    "# removing system warnings\n",
    "import warnings\n",
    "warnings.filterwarnings('ignore')\n",
    "\n",
    "# data manipulation\n",
    "import pandas as pd\n",
    "import numpy as np\n",
    "\n",
    "# helper functions\n",
    "import file_management\n",
    "\n",
    "pd.set_option('display.max_rows', 500)\n",
    "pd.set_option('display.max_columns', 500)\n",
    "pd.options.display.float_format = '{:,.2f}'.format"
   ]
  },
  {
   "cell_type": "markdown",
   "metadata": {},
   "source": [
    "## C. Importing Data <a class=\"anchor\" id=\"data\"></a>"
   ]
  },
  {
   "cell_type": "code",
   "execution_count": 3,
   "metadata": {},
   "outputs": [
    {
     "name": "stdout",
     "output_type": "stream",
     "text": [
      "sales_processed.csv file already exists in ../data/processed/\n",
      "prices_processed.csv file already exists in ../data/processed/\n",
      "calendar_processed.csv file already exists in ../data/processed/\n"
     ]
    },
    {
     "data": {
      "text/plain": [
       "['./../data/processed//sales_processed.csv',\n",
       " './../data/processed//prices_processed.csv',\n",
       " './../data/processed//calendar_processed.csv']"
      ]
     },
     "execution_count": 3,
     "metadata": {},
     "output_type": "execute_result"
    }
   ],
   "source": [
    "# downloading the processed data files from gdrive, in case these were not available\n",
    "directory = '../data/processed/'\n",
    "urls = [\n",
    "    {'filename': 'sales_processed.csv', 'url': 'https://drive.google.com/file/d/1JdeAgraKcaFQJrjG2HPVb5D0VD0iTlNB/view?usp=sharing'},\n",
    "    {'filename': 'prices_processed.csv', 'url': 'https://drive.google.com/file/d/1pSEJAQfAU-owDjKmxcPrxf3CpGFivwa6/view?usp=sharing'},\n",
    "    {'filename': 'calendar_processed.csv', 'url': 'https://drive.google.com/file/d/1Lnji96iBkTpFiWo-QXeW3TvESiNYWCML/view?usp=sharing'}\n",
    "]\n",
    "        \n",
    "file_management.download_files_from_url(urls, directory)        "
   ]
  },
  {
   "cell_type": "code",
   "execution_count": 4,
   "metadata": {},
   "outputs": [],
   "source": [
    "sales = pd.read_csv(directory + 'sales_processed.csv', index_col = 0)\n",
    "prices = pd.read_csv(directory + 'prices_processed.csv', index_col = 0)\n",
    "calendar = pd.read_csv(directory + 'calendar_processed.csv', index_col = 0)"
   ]
  },
  {
   "cell_type": "markdown",
   "metadata": {},
   "source": [
    "## D. Creating a master dataframe <a class=\"anchor\" id=\"master_df\"></a>"
   ]
  },
  {
   "cell_type": "code",
   "execution_count": null,
   "metadata": {},
   "outputs": [],
   "source": [
    "# generating a dataframe with each row being the total amount of sales per day with each product\n",
    "master = sales.melt(\n",
    "        id_vars = ['id', 'item', 'category', 'department', 'store', 'store_code', 'region'], \n",
    "        var_name = 'd', \n",
    "        value_name = 'num_sales'\n",
    ")\n",
    "master"
   ]
  },
  {
   "cell_type": "code",
   "execution_count": null,
   "metadata": {},
   "outputs": [],
   "source": [
    "# removing unnecessary columns that can be easily regenerated with the id or with a simple dictionary ('store')\n",
    "master.drop(columns = ['item', 'category', 'department', 'store_code', 'region', 'store'], inplace = True)\n",
    "master"
   ]
  },
  {
   "cell_type": "code",
   "execution_count": null,
   "metadata": {},
   "outputs": [],
   "source": [
    "# merging the master sales with calendar in order to get the date translation between 'd' and the real 'date'\n",
    "master = pd.merge(\n",
    "    master,\n",
    "    calendar,\n",
    "    on = 'd'\n",
    ")\n",
    "\n",
    "master"
   ]
  },
  {
   "cell_type": "code",
   "execution_count": null,
   "metadata": {},
   "outputs": [],
   "source": [
    "# master dataframe sorting, cleanup and feature generation for other merges\n",
    "master.sort_values(by = ['id', 'date'], inplace = True)\n",
    "\n",
    "master['date'] = pd.to_datetime(master['date'])\n",
    "\n",
    "master['year'] = master['date'].dt.year\n",
    "master['week'] = master['date'].dt.week\n",
    "\n",
    "master.drop(columns = 'd', inplace = True)"
   ]
  },
  {
   "cell_type": "code",
   "execution_count": null,
   "metadata": {},
   "outputs": [],
   "source": [
    "# adding features and dropping columns in 'prices' for a more efficient merging\n",
    "prices['id'] = prices['item'] + '_' + prices['store_code']\n",
    "prices.drop(columns = ['item', 'store_code', 'category'], inplace = True)\n",
    "prices"
   ]
  },
  {
   "cell_type": "code",
   "execution_count": null,
   "metadata": {},
   "outputs": [],
   "source": [
    "# merging 'master' dataframe with 'prices'\n",
    "master = pd.merge(\n",
    "    master,\n",
    "    prices,\n",
    "    how = 'left',\n",
    "    on = ['id', 'week', 'year']\n",
    ")\n",
    "\n",
    "master"
   ]
  },
  {
   "cell_type": "code",
   "execution_count": null,
   "metadata": {},
   "outputs": [],
   "source": [
    "# filling in nulls in prices using backfill, as we want to get the last available correct price assuming it didn't change\n",
    "master.sell_price.fillna(\n",
    "    method = 'backfill',\n",
    "    inplace = True\n",
    ")\n",
    "\n",
    "master"
   ]
  },
  {
   "cell_type": "code",
   "execution_count": null,
   "metadata": {},
   "outputs": [],
   "source": [
    "# saving master dataframe\n",
    "directory = '../data/features'\n",
    "dfs = [\n",
    "    { 'filename': 'master', 'df': master }\n",
    "]\n",
    "\n",
    "file_management.save_dfs_to_csv(dfs, directory)"
   ]
  },
  {
   "cell_type": "markdown",
   "metadata": {},
   "source": [
    "## E. Creating aggregated dataframes <a class=\"anchor\" id=\"master_df\"></a>"
   ]
  },
  {
   "cell_type": "markdown",
   "metadata": {},
   "source": [
    "In this section we will be generating several dataframes that we will be using throughout the different analysis."
   ]
  },
  {
   "cell_type": "code",
   "execution_count": 5,
   "metadata": {},
   "outputs": [
    {
     "name": "stdout",
     "output_type": "stream",
     "text": [
      "master.csv file already exists in ../data/features/\n"
     ]
    }
   ],
   "source": [
    "# downloading the feature file from gdrive - in case you didn't run the previous section\n",
    "directory = '../data/features/'\n",
    "urls = [\n",
    "    {'filename': 'master.csv', 'url': 'https://drive.google.com/file/d/1_OCpE6AZK3ju5RJVTJZm8ox5Cn8G3_Ag/view?usp=sharing'},\n",
    "]\n",
    "        \n",
    "file_management.download_files_from_url(urls, directory)\n",
    "\n",
    "master = pd.read_csv(directory + 'master.csv', index_col = 0)"
   ]
  },
  {
   "cell_type": "markdown",
   "metadata": {},
   "source": [
    "### Preparing the master file"
   ]
  },
  {
   "cell_type": "code",
   "execution_count": null,
   "metadata": {},
   "outputs": [],
   "source": [
    "master['total_income'] = master['num_sales'] * master['sell_price']\n",
    "master.drop(columns = ['weekday', 'year', 'week', 'weekday_int', 'event'], inplace = True)"
   ]
  },
  {
   "cell_type": "markdown",
   "metadata": {},
   "source": [
    "### Global sales DF"
   ]
  },
  {
   "cell_type": "code",
   "execution_count": null,
   "metadata": {},
   "outputs": [],
   "source": [
    "sales_by_date = master.drop(columns = 'sell_price').groupby(['date']).agg('sum')\n",
    "sales_by_date"
   ]
  },
  {
   "cell_type": "code",
   "execution_count": null,
   "metadata": {},
   "outputs": [],
   "source": [
    "directory = '../data/features'\n",
    "dfs = [\n",
    "    { 'filename': 'sales_by_date', 'df': sales_by_date },\n",
    "]\n",
    "\n",
    "file_management.save_dfs_to_csv(dfs, directory, prefix = '')"
   ]
  },
  {
   "cell_type": "markdown",
   "metadata": {},
   "source": [
    "### Global Sales by City"
   ]
  },
  {
   "cell_type": "code",
   "execution_count": null,
   "metadata": {},
   "outputs": [],
   "source": [
    "master['city'] = master['id'].apply(lambda x: x[-5:-2])\n",
    "master"
   ]
  },
  {
   "cell_type": "code",
   "execution_count": null,
   "metadata": {},
   "outputs": [],
   "source": [
    "sales_by_date_city = master.drop(columns = 'sell_price').groupby(['date', 'city']).agg('sum')\n",
    "sales_by_date_city"
   ]
  },
  {
   "cell_type": "code",
   "execution_count": null,
   "metadata": {},
   "outputs": [],
   "source": [
    "directory = '../data/features'\n",
    "dfs = [\n",
    "    { 'filename': 'sales_by_date_city', 'df': sales_by_date_city },\n",
    "]\n",
    "\n",
    "file_management.save_dfs_to_csv(dfs, directory, prefix = '')"
   ]
  },
  {
   "cell_type": "markdown",
   "metadata": {},
   "source": [
    "### Global Sales by Store"
   ]
  },
  {
   "cell_type": "code",
   "execution_count": null,
   "metadata": {},
   "outputs": [],
   "source": [
    "master['store'] = master['id'].apply(lambda x: x[-5:])\n",
    "master"
   ]
  },
  {
   "cell_type": "code",
   "execution_count": null,
   "metadata": {},
   "outputs": [],
   "source": [
    "sales_by_date_store = master.drop(columns = ['sell_price', 'city']).groupby(['date', 'store']).agg('sum')\n",
    "sales_by_date_store"
   ]
  },
  {
   "cell_type": "code",
   "execution_count": null,
   "metadata": {},
   "outputs": [],
   "source": [
    "directory = '../data/features'\n",
    "dfs = [\n",
    "    { 'filename': 'sales_by_date_store', 'df': sales_by_date_store },\n",
    "]\n",
    "\n",
    "file_management.save_dfs_to_csv(dfs, directory, prefix = '')"
   ]
  },
  {
   "cell_type": "markdown",
   "metadata": {},
   "source": [
    "### Sales per Item"
   ]
  },
  {
   "cell_type": "code",
   "execution_count": 5,
   "metadata": {},
   "outputs": [
    {
     "name": "stdout",
     "output_type": "stream",
     "text": [
      "master.csv file already exists in ../data/features/\n"
     ]
    }
   ],
   "source": [
    "# downloading the feature file from gdrive - in case you didn't run the previous section\n",
    "directory = '../data/features/'\n",
    "urls = [\n",
    "    {'filename': 'master.csv', 'url': 'https://drive.google.com/file/d/1_OCpE6AZK3ju5RJVTJZm8ox5Cn8G3_Ag/view?usp=sharing'},\n",
    "]\n",
    "        \n",
    "file_management.download_files_from_url(urls, directory)\n",
    "\n",
    "master = pd.read_csv(directory + 'master.csv', index_col = 0)"
   ]
  },
  {
   "cell_type": "code",
   "execution_count": 6,
   "metadata": {},
   "outputs": [
    {
     "data": {
      "text/html": [
       "<div>\n",
       "<style scoped>\n",
       "    .dataframe tbody tr th:only-of-type {\n",
       "        vertical-align: middle;\n",
       "    }\n",
       "\n",
       "    .dataframe tbody tr th {\n",
       "        vertical-align: top;\n",
       "    }\n",
       "\n",
       "    .dataframe thead th {\n",
       "        text-align: right;\n",
       "    }\n",
       "</style>\n",
       "<table border=\"1\" class=\"dataframe\">\n",
       "  <thead>\n",
       "    <tr style=\"text-align: right;\">\n",
       "      <th></th>\n",
       "      <th>id</th>\n",
       "      <th>num_sales</th>\n",
       "      <th>date</th>\n",
       "      <th>weekday</th>\n",
       "      <th>weekday_int</th>\n",
       "      <th>event</th>\n",
       "      <th>year</th>\n",
       "      <th>week</th>\n",
       "      <th>sell_price</th>\n",
       "    </tr>\n",
       "  </thead>\n",
       "  <tbody>\n",
       "    <tr>\n",
       "      <th>0</th>\n",
       "      <td>ACCESORIES_1_001_BOS_1</td>\n",
       "      <td>0</td>\n",
       "      <td>2011-01-29</td>\n",
       "      <td>Saturday</td>\n",
       "      <td>1</td>\n",
       "      <td>None</td>\n",
       "      <td>2011</td>\n",
       "      <td>4</td>\n",
       "      <td>12.74</td>\n",
       "    </tr>\n",
       "    <tr>\n",
       "      <th>1</th>\n",
       "      <td>ACCESORIES_1_001_BOS_1</td>\n",
       "      <td>0</td>\n",
       "      <td>2011-01-30</td>\n",
       "      <td>Sunday</td>\n",
       "      <td>2</td>\n",
       "      <td>None</td>\n",
       "      <td>2011</td>\n",
       "      <td>4</td>\n",
       "      <td>12.74</td>\n",
       "    </tr>\n",
       "    <tr>\n",
       "      <th>2</th>\n",
       "      <td>ACCESORIES_1_001_BOS_1</td>\n",
       "      <td>0</td>\n",
       "      <td>2011-01-31</td>\n",
       "      <td>Monday</td>\n",
       "      <td>3</td>\n",
       "      <td>None</td>\n",
       "      <td>2011</td>\n",
       "      <td>5</td>\n",
       "      <td>12.74</td>\n",
       "    </tr>\n",
       "    <tr>\n",
       "      <th>3</th>\n",
       "      <td>ACCESORIES_1_001_BOS_1</td>\n",
       "      <td>0</td>\n",
       "      <td>2011-02-01</td>\n",
       "      <td>Tuesday</td>\n",
       "      <td>4</td>\n",
       "      <td>None</td>\n",
       "      <td>2011</td>\n",
       "      <td>5</td>\n",
       "      <td>12.74</td>\n",
       "    </tr>\n",
       "    <tr>\n",
       "      <th>4</th>\n",
       "      <td>ACCESORIES_1_001_BOS_1</td>\n",
       "      <td>0</td>\n",
       "      <td>2011-02-02</td>\n",
       "      <td>Wednesday</td>\n",
       "      <td>5</td>\n",
       "      <td>None</td>\n",
       "      <td>2011</td>\n",
       "      <td>5</td>\n",
       "      <td>12.74</td>\n",
       "    </tr>\n",
       "  </tbody>\n",
       "</table>\n",
       "</div>"
      ],
      "text/plain": [
       "                       id  num_sales        date    weekday  weekday_int  \\\n",
       "0  ACCESORIES_1_001_BOS_1          0  2011-01-29   Saturday            1   \n",
       "1  ACCESORIES_1_001_BOS_1          0  2011-01-30     Sunday            2   \n",
       "2  ACCESORIES_1_001_BOS_1          0  2011-01-31     Monday            3   \n",
       "3  ACCESORIES_1_001_BOS_1          0  2011-02-01    Tuesday            4   \n",
       "4  ACCESORIES_1_001_BOS_1          0  2011-02-02  Wednesday            5   \n",
       "\n",
       "  event  year  week  sell_price  \n",
       "0  None  2011     4       12.74  \n",
       "1  None  2011     4       12.74  \n",
       "2  None  2011     5       12.74  \n",
       "3  None  2011     5       12.74  \n",
       "4  None  2011     5       12.74  "
      ]
     },
     "execution_count": 6,
     "metadata": {},
     "output_type": "execute_result"
    }
   ],
   "source": [
    "master.head()"
   ]
  },
  {
   "cell_type": "code",
   "execution_count": 7,
   "metadata": {},
   "outputs": [],
   "source": [
    "master.drop(columns = ['date', 'weekday', 'weekday_int', 'event', 'year', 'week' ], inplace = True)"
   ]
  },
  {
   "cell_type": "code",
   "execution_count": 8,
   "metadata": {},
   "outputs": [
    {
     "data": {
      "text/html": [
       "<div>\n",
       "<style scoped>\n",
       "    .dataframe tbody tr th:only-of-type {\n",
       "        vertical-align: middle;\n",
       "    }\n",
       "\n",
       "    .dataframe tbody tr th {\n",
       "        vertical-align: top;\n",
       "    }\n",
       "\n",
       "    .dataframe thead th {\n",
       "        text-align: right;\n",
       "    }\n",
       "</style>\n",
       "<table border=\"1\" class=\"dataframe\">\n",
       "  <thead>\n",
       "    <tr style=\"text-align: right;\">\n",
       "      <th></th>\n",
       "      <th>id</th>\n",
       "      <th>num_sales</th>\n",
       "      <th>sell_price</th>\n",
       "      <th>item</th>\n",
       "    </tr>\n",
       "  </thead>\n",
       "  <tbody>\n",
       "    <tr>\n",
       "      <th>0</th>\n",
       "      <td>ACCESORIES_1_001_BOS_1</td>\n",
       "      <td>0</td>\n",
       "      <td>12.74</td>\n",
       "      <td>ACCESORIES_1_001</td>\n",
       "    </tr>\n",
       "    <tr>\n",
       "      <th>1</th>\n",
       "      <td>ACCESORIES_1_001_BOS_1</td>\n",
       "      <td>0</td>\n",
       "      <td>12.74</td>\n",
       "      <td>ACCESORIES_1_001</td>\n",
       "    </tr>\n",
       "    <tr>\n",
       "      <th>2</th>\n",
       "      <td>ACCESORIES_1_001_BOS_1</td>\n",
       "      <td>0</td>\n",
       "      <td>12.74</td>\n",
       "      <td>ACCESORIES_1_001</td>\n",
       "    </tr>\n",
       "    <tr>\n",
       "      <th>3</th>\n",
       "      <td>ACCESORIES_1_001_BOS_1</td>\n",
       "      <td>0</td>\n",
       "      <td>12.74</td>\n",
       "      <td>ACCESORIES_1_001</td>\n",
       "    </tr>\n",
       "    <tr>\n",
       "      <th>4</th>\n",
       "      <td>ACCESORIES_1_001_BOS_1</td>\n",
       "      <td>0</td>\n",
       "      <td>12.74</td>\n",
       "      <td>ACCESORIES_1_001</td>\n",
       "    </tr>\n",
       "    <tr>\n",
       "      <th>...</th>\n",
       "      <td>...</td>\n",
       "      <td>...</td>\n",
       "      <td>...</td>\n",
       "      <td>...</td>\n",
       "    </tr>\n",
       "    <tr>\n",
       "      <th>58327365</th>\n",
       "      <td>SUPERMARKET_3_827_PHI_3</td>\n",
       "      <td>0</td>\n",
       "      <td>1.20</td>\n",
       "      <td>SUPERMARKET_3_827</td>\n",
       "    </tr>\n",
       "    <tr>\n",
       "      <th>58327366</th>\n",
       "      <td>SUPERMARKET_3_827_PHI_3</td>\n",
       "      <td>0</td>\n",
       "      <td>1.20</td>\n",
       "      <td>SUPERMARKET_3_827</td>\n",
       "    </tr>\n",
       "    <tr>\n",
       "      <th>58327367</th>\n",
       "      <td>SUPERMARKET_3_827_PHI_3</td>\n",
       "      <td>0</td>\n",
       "      <td>1.20</td>\n",
       "      <td>SUPERMARKET_3_827</td>\n",
       "    </tr>\n",
       "    <tr>\n",
       "      <th>58327368</th>\n",
       "      <td>SUPERMARKET_3_827_PHI_3</td>\n",
       "      <td>0</td>\n",
       "      <td>1.20</td>\n",
       "      <td>SUPERMARKET_3_827</td>\n",
       "    </tr>\n",
       "    <tr>\n",
       "      <th>58327369</th>\n",
       "      <td>SUPERMARKET_3_827_PHI_3</td>\n",
       "      <td>0</td>\n",
       "      <td>1.20</td>\n",
       "      <td>SUPERMARKET_3_827</td>\n",
       "    </tr>\n",
       "  </tbody>\n",
       "</table>\n",
       "<p>58327370 rows × 4 columns</p>\n",
       "</div>"
      ],
      "text/plain": [
       "                               id  num_sales  sell_price               item\n",
       "0          ACCESORIES_1_001_BOS_1          0       12.74   ACCESORIES_1_001\n",
       "1          ACCESORIES_1_001_BOS_1          0       12.74   ACCESORIES_1_001\n",
       "2          ACCESORIES_1_001_BOS_1          0       12.74   ACCESORIES_1_001\n",
       "3          ACCESORIES_1_001_BOS_1          0       12.74   ACCESORIES_1_001\n",
       "4          ACCESORIES_1_001_BOS_1          0       12.74   ACCESORIES_1_001\n",
       "...                           ...        ...         ...                ...\n",
       "58327365  SUPERMARKET_3_827_PHI_3          0        1.20  SUPERMARKET_3_827\n",
       "58327366  SUPERMARKET_3_827_PHI_3          0        1.20  SUPERMARKET_3_827\n",
       "58327367  SUPERMARKET_3_827_PHI_3          0        1.20  SUPERMARKET_3_827\n",
       "58327368  SUPERMARKET_3_827_PHI_3          0        1.20  SUPERMARKET_3_827\n",
       "58327369  SUPERMARKET_3_827_PHI_3          0        1.20  SUPERMARKET_3_827\n",
       "\n",
       "[58327370 rows x 4 columns]"
      ]
     },
     "execution_count": 8,
     "metadata": {},
     "output_type": "execute_result"
    }
   ],
   "source": [
    "master['item'] = master['id'].apply(lambda x: x[:-6])\n",
    "master"
   ]
  },
  {
   "cell_type": "code",
   "execution_count": 13,
   "metadata": {},
   "outputs": [
    {
     "data": {
      "text/html": [
       "<div>\n",
       "<style scoped>\n",
       "    .dataframe tbody tr th:only-of-type {\n",
       "        vertical-align: middle;\n",
       "    }\n",
       "\n",
       "    .dataframe tbody tr th {\n",
       "        vertical-align: top;\n",
       "    }\n",
       "\n",
       "    .dataframe thead tr th {\n",
       "        text-align: left;\n",
       "    }\n",
       "\n",
       "    .dataframe thead tr:last-of-type th {\n",
       "        text-align: right;\n",
       "    }\n",
       "</style>\n",
       "<table border=\"1\" class=\"dataframe\">\n",
       "  <thead>\n",
       "    <tr>\n",
       "      <th></th>\n",
       "      <th colspan=\"3\" halign=\"left\">num_sales</th>\n",
       "      <th colspan=\"3\" halign=\"left\">sell_price</th>\n",
       "    </tr>\n",
       "    <tr>\n",
       "      <th></th>\n",
       "      <th>sum</th>\n",
       "      <th>mean</th>\n",
       "      <th>std</th>\n",
       "      <th>sum</th>\n",
       "      <th>mean</th>\n",
       "      <th>std</th>\n",
       "    </tr>\n",
       "    <tr>\n",
       "      <th>item</th>\n",
       "      <th></th>\n",
       "      <th></th>\n",
       "      <th></th>\n",
       "      <th></th>\n",
       "      <th></th>\n",
       "      <th></th>\n",
       "    </tr>\n",
       "  </thead>\n",
       "  <tbody>\n",
       "    <tr>\n",
       "      <th>ACCESORIES_1_001</th>\n",
       "      <td>4093</td>\n",
       "      <td>0.21</td>\n",
       "      <td>0.58</td>\n",
       "      <td>219,344.58</td>\n",
       "      <td>11.47</td>\n",
       "      <td>0.73</td>\n",
       "    </tr>\n",
       "    <tr>\n",
       "      <th>ACCESORIES_1_002</th>\n",
       "      <td>5059</td>\n",
       "      <td>0.26</td>\n",
       "      <td>0.59</td>\n",
       "      <td>100,941.36</td>\n",
       "      <td>5.28</td>\n",
       "      <td>0.09</td>\n",
       "    </tr>\n",
       "    <tr>\n",
       "      <th>ACCESORIES_1_003</th>\n",
       "      <td>1435</td>\n",
       "      <td>0.08</td>\n",
       "      <td>0.32</td>\n",
       "      <td>75,518.03</td>\n",
       "      <td>3.95</td>\n",
       "      <td>0.13</td>\n",
       "    </tr>\n",
       "    <tr>\n",
       "      <th>ACCESORIES_1_004</th>\n",
       "      <td>39175</td>\n",
       "      <td>2.05</td>\n",
       "      <td>2.67</td>\n",
       "      <td>114,391.52</td>\n",
       "      <td>5.98</td>\n",
       "      <td>0.28</td>\n",
       "    </tr>\n",
       "    <tr>\n",
       "      <th>ACCESORIES_1_005</th>\n",
       "      <td>14621</td>\n",
       "      <td>0.76</td>\n",
       "      <td>1.23</td>\n",
       "      <td>73,414.40</td>\n",
       "      <td>3.84</td>\n",
       "      <td>0.22</td>\n",
       "    </tr>\n",
       "    <tr>\n",
       "      <th>...</th>\n",
       "      <td>...</td>\n",
       "      <td>...</td>\n",
       "      <td>...</td>\n",
       "      <td>...</td>\n",
       "      <td>...</td>\n",
       "      <td>...</td>\n",
       "    </tr>\n",
       "    <tr>\n",
       "      <th>SUPERMARKET_3_823</th>\n",
       "      <td>15388</td>\n",
       "      <td>0.80</td>\n",
       "      <td>1.71</td>\n",
       "      <td>63,984.10</td>\n",
       "      <td>3.34</td>\n",
       "      <td>0.23</td>\n",
       "    </tr>\n",
       "    <tr>\n",
       "      <th>SUPERMARKET_3_824</th>\n",
       "      <td>8325</td>\n",
       "      <td>0.44</td>\n",
       "      <td>0.95</td>\n",
       "      <td>57,897.00</td>\n",
       "      <td>3.03</td>\n",
       "      <td>0.26</td>\n",
       "    </tr>\n",
       "    <tr>\n",
       "      <th>SUPERMARKET_3_825</th>\n",
       "      <td>13526</td>\n",
       "      <td>0.71</td>\n",
       "      <td>1.20</td>\n",
       "      <td>94,370.36</td>\n",
       "      <td>4.93</td>\n",
       "      <td>0.24</td>\n",
       "    </tr>\n",
       "    <tr>\n",
       "      <th>SUPERMARKET_3_826</th>\n",
       "      <td>12188</td>\n",
       "      <td>0.64</td>\n",
       "      <td>1.25</td>\n",
       "      <td>29,381.33</td>\n",
       "      <td>1.54</td>\n",
       "      <td>0.01</td>\n",
       "    </tr>\n",
       "    <tr>\n",
       "      <th>SUPERMARKET_3_827</th>\n",
       "      <td>11377</td>\n",
       "      <td>0.59</td>\n",
       "      <td>2.03</td>\n",
       "      <td>22,951.80</td>\n",
       "      <td>1.20</td>\n",
       "      <td>0.01</td>\n",
       "    </tr>\n",
       "  </tbody>\n",
       "</table>\n",
       "<p>3049 rows × 6 columns</p>\n",
       "</div>"
      ],
      "text/plain": [
       "                  num_sales           sell_price           \n",
       "                        sum mean  std        sum  mean  std\n",
       "item                                                       \n",
       "ACCESORIES_1_001       4093 0.21 0.58 219,344.58 11.47 0.73\n",
       "ACCESORIES_1_002       5059 0.26 0.59 100,941.36  5.28 0.09\n",
       "ACCESORIES_1_003       1435 0.08 0.32  75,518.03  3.95 0.13\n",
       "ACCESORIES_1_004      39175 2.05 2.67 114,391.52  5.98 0.28\n",
       "ACCESORIES_1_005      14621 0.76 1.23  73,414.40  3.84 0.22\n",
       "...                     ...  ...  ...        ...   ...  ...\n",
       "SUPERMARKET_3_823     15388 0.80 1.71  63,984.10  3.34 0.23\n",
       "SUPERMARKET_3_824      8325 0.44 0.95  57,897.00  3.03 0.26\n",
       "SUPERMARKET_3_825     13526 0.71 1.20  94,370.36  4.93 0.24\n",
       "SUPERMARKET_3_826     12188 0.64 1.25  29,381.33  1.54 0.01\n",
       "SUPERMARKET_3_827     11377 0.59 2.03  22,951.80  1.20 0.01\n",
       "\n",
       "[3049 rows x 6 columns]"
      ]
     },
     "execution_count": 13,
     "metadata": {},
     "output_type": "execute_result"
    }
   ],
   "source": [
    "sales_by_product = master.drop(columns = ['id']).groupby(['item']).agg([np.sum, np.mean, np.std])\n",
    "sales_by_product"
   ]
  },
  {
   "cell_type": "code",
   "execution_count": 14,
   "metadata": {},
   "outputs": [
    {
     "name": "stdout",
     "output_type": "stream",
     "text": [
      "./../data/features/sales_by_product.csv doesn't exist. Creating new file\n"
     ]
    },
    {
     "data": {
      "text/plain": [
       "['./../data/features/sales_by_product.csv']"
      ]
     },
     "execution_count": 14,
     "metadata": {},
     "output_type": "execute_result"
    }
   ],
   "source": [
    "directory = '../data/features'\n",
    "dfs = [\n",
    "    { 'filename': 'sales_by_product', 'df': sales_by_product },\n",
    "]\n",
    "\n",
    "file_management.save_dfs_to_csv(dfs, directory, prefix = '')"
   ]
  }
 ],
 "metadata": {
  "interpreter": {
   "hash": "cf02ddb1f4e0cf91aaa2da81dcf25e5e7e70ec4e5f47b1fabe56a7ae8419c9a3"
  },
  "kernelspec": {
   "display_name": "Python 3.8.12 64-bit ('base': conda)",
   "language": "python",
   "name": "python3"
  },
  "language_info": {
   "codemirror_mode": {
    "name": "ipython",
    "version": 3
   },
   "file_extension": ".py",
   "mimetype": "text/x-python",
   "name": "python",
   "nbconvert_exporter": "python",
   "pygments_lexer": "ipython3",
   "version": "3.8.12"
  },
  "orig_nbformat": 4
 },
 "nbformat": 4,
 "nbformat_minor": 2
}
