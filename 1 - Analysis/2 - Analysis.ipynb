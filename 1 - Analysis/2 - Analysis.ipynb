{
 "cells": [
  {
   "cell_type": "markdown",
   "metadata": {},
   "source": [
    "<img src='../img/logo.png' alt='DS Market logo' height='150px'>"
   ]
  },
  {
   "cell_type": "markdown",
   "metadata": {},
   "source": [
    "# 2 - Data Analysis"
   ]
  },
  {
   "cell_type": "markdown",
   "metadata": {},
   "source": [
    "## Table of Contents\n",
    "\n",
    "* [A. Introduction](#introduction)\n",
    "* [B. Importing Libraries](#libraries)\n",
    "* [C. Importing data](#data)"
   ]
  },
  {
   "cell_type": "markdown",
   "metadata": {},
   "source": [
    "## A. Introduction <a class=\"anchor\" id=\"introduction\"></a>"
   ]
  },
  {
   "cell_type": "markdown",
   "metadata": {},
   "source": [
    "We are going to explore all the available data the company can share and do an initial analysis on the following. We will analyse the data from NY, Boston and Philadelphia to:\n",
    "- Check what products are popular and which ones are not so popular anymore\n",
    "- If these vary across cities and/or stores\n",
    "- If these vary in prices\n",
    "\n",
    "With that, the marketing department will take actions to exploit these differences."
   ]
  },
  {
   "cell_type": "markdown",
   "metadata": {},
   "source": [
    "## B. Importing Libraries <a class=\"anchor\" id=\"libraries\"></a>"
   ]
  },
  {
   "cell_type": "markdown",
   "metadata": {},
   "source": []
  },
  {
   "cell_type": "markdown",
   "metadata": {},
   "source": [
    "____"
   ]
  },
  {
   "cell_type": "markdown",
   "metadata": {},
   "source": [
    "Popularity of products\n",
    "\n",
    "- plot by number of sales by month /week distribution(avg sales in last month...)\n",
    "- filter by city\n",
    "- filter by store\n",
    "- monthly increment of sales (?)"
   ]
  },
  {
   "cell_type": "markdown",
   "metadata": {},
   "source": [
    "clustering:\n",
    "\n",
    "- scatter plot... 1v1 (with num variables)\n",
    "- what caracterises a store? amount of sales they have? Num of products they have...\n"
   ]
  },
  {
   "cell_type": "markdown",
   "metadata": {},
   "source": []
  }
 ],
 "metadata": {
  "language_info": {
   "name": "python"
  },
  "orig_nbformat": 4
 },
 "nbformat": 4,
 "nbformat_minor": 2
}
